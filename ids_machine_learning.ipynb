{
  "nbformat": 4,
  "nbformat_minor": 0,
  "metadata": {
    "colab": {
      "provenance": []
    },
    "kernelspec": {
      "name": "python3",
      "display_name": "Python 3"
    },
    "language_info": {
      "name": "python"
    }
  },
  "cells": [
    {
      "cell_type": "markdown",
      "source": [
        "# Import Data\n"
      ],
      "metadata": {
        "id": "CDjjS_0scEo6"
      }
    },
    {
      "cell_type": "code",
      "execution_count": null,
      "metadata": {
        "id": "R-OJKz5abdbr"
      },
      "outputs": [],
      "source": [
        "import pandas as pd\n",
        "import seaborn as sns\n",
        "import matplotlib.pyplot as plt\n",
        "import matplotlib as matplot\n",
        "import numpy as np\n",
        "\n",
        "import re\n",
        "import sklearn\n",
        "\n",
        "import warnings\n",
        "warnings.filterwarnings(\"ignore\")\n",
        "\n",
        "%matplotlib inline\n",
        "df_train = pd.read_csv('/drive/MyDrive/SKC/Train_data.csv')\n",
        "df_test = pd.read_csv('/drive/MyDrive/SKC/test_data.csv')\n",
        "df_test = df_test.drop('Unnamed: 0',axis=1)"
      ]
    },
    {
      "cell_type": "markdown",
      "source": [
        "# Eksploring The Data"
      ],
      "metadata": {
        "id": "7cC8H2Qwby1z"
      }
    },
    {
      "cell_type": "code",
      "source": [
        "df_train.head()"
      ],
      "metadata": {
        "id": "Ih3mRWrYbvjN"
      },
      "execution_count": null,
      "outputs": []
    },
    {
      "cell_type": "code",
      "source": [
        "df_test.head()"
      ],
      "metadata": {
        "id": "hQI2PkaacJQy"
      },
      "execution_count": null,
      "outputs": []
    },
    {
      "cell_type": "code",
      "source": [
        "X_train = df_train.drop('xAttack', axis=1)\n",
        "Y_train = df_train.loc[:,['xAttack']]\n",
        "X_test = df_test.drop('xAttack', axis=1)\n",
        "Y_test = df_test.loc[:,['xAttack']]"
      ],
      "metadata": {
        "id": "DE0P9JSecO7c"
      },
      "execution_count": null,
      "outputs": []
    },
    {
      "cell_type": "code",
      "source": [
        "print(Y_train.apply(lambda col: col.unique()))"
      ],
      "metadata": {
        "id": "wJjhRb5ecSLR"
      },
      "execution_count": null,
      "outputs": []
    },
    {
      "cell_type": "code",
      "source": [
        "from sklearn import preprocessing\n",
        "from sklearn.preprocessing import OneHotEncoder"
      ],
      "metadata": {
        "id": "ZgyMayOWJrAp"
      },
      "execution_count": null,
      "outputs": []
    },
    {
      "cell_type": "code",
      "source": [
        "le = preprocessing.LabelEncoder()\n",
        "enc = OneHotEncoder()\n",
        "lb = preprocessing.LabelBinarizer()"
      ],
      "metadata": {
        "id": "UDgoKy7lKWH2"
      },
      "execution_count": null,
      "outputs": []
    },
    {
      "cell_type": "code",
      "source": [
        "X_train['protocol_type'] = le.fit_transform(X_train['protocol_type'])\n",
        "# enc.fit_transform(X_train['protocol_type'])\n",
        "\n",
        "X_test['protocol_type'] = le.fit_transform(X_test['protocol_type'])\n",
        "# enc.fit_transform(X_test['protocol_type'])\n",
        "\n",
        "X_train.head()"
      ],
      "metadata": {
        "id": "4LjTSqUtKYbQ"
      },
      "execution_count": null,
      "outputs": []
    },
    {
      "cell_type": "code",
      "source": [
        "Y_train['xAttack'] = le.fit_transform(Y_train['xAttack'])\n",
        "lb.fit_transform(Y_train['xAttack'])\n",
        "\n",
        "Y_test['xAttack'] = le.fit_transform(Y_test['xAttack'])\n",
        "lb.fit_transform(Y_test['xAttack'])\n",
        "\n",
        "Y_train.describe()"
      ],
      "metadata": {
        "id": "_JNlLq_2Kd9q"
      },
      "execution_count": null,
      "outputs": []
    },
    {
      "cell_type": "code",
      "source": [
        "#except continuous feature\n",
        "con_list = ['protocol_type', 'service', 'flag', 'land', 'logged_in', 'su_attempted', 'is_host_login', 'is_guest_login']\n",
        "con_train = X_train.drop(con_list, axis=1)\n",
        "\n",
        "#drop n smallest std features\n",
        "stdtrain = con_train.std(axis=0)\n",
        "std_X_train = stdtrain.to_frame()\n",
        "std_X_train.nsmallest(10, columns=0).head(10)"
      ],
      "metadata": {
        "id": "mm5aLyxEKh8E"
      },
      "execution_count": null,
      "outputs": []
    },
    {
      "cell_type": "code",
      "source": [
        "X_train = X_train.drop(['num_outbound_cmds'], axis=1)\n",
        "X_test = X_test.drop(['num_outbound_cmds'], axis=1)\n",
        "\n",
        "df_train = pd.concat([X_train, Y_train], axis=1)\n",
        "df_train.head()\n",
        "\n",
        "X_train.head()"
      ],
      "metadata": {
        "id": "TpxrGKTHKlfD"
      },
      "execution_count": null,
      "outputs": []
    },
    {
      "cell_type": "code",
      "source": [
        "stdrop_list = ['urgent', 'num_shells', 'root_shell',\n",
        "        'num_failed_logins', 'num_access_files', 'dst_host_srv_diff_host_rate',\n",
        "        'diff_srv_rate', 'dst_host_diff_srv_rate', 'wrong_fragment']\n",
        "\n",
        "X_test_stdrop = X_test.drop(stdrop_list, axis=1)\n",
        "\n",
        "X_train_stdrop = X_train.drop(stdrop_list, axis=1)\n",
        "\n",
        "df_train_stdrop = pd.concat([X_train_stdrop, Y_train], axis=1)\n",
        "\n",
        "df_train_stdrop.head()"
      ],
      "metadata": {
        "id": "Knnk10LtKnXU"
      },
      "execution_count": null,
      "outputs": []
    },
    {
      "cell_type": "code",
      "source": [
        "from sklearn import linear_model"
      ],
      "metadata": {
        "id": "pHqMvPhzKq8H"
      },
      "execution_count": null,
      "outputs": []
    },
    {
      "cell_type": "code",
      "source": [
        "LR = linear_model.LinearRegression()\n",
        "LR.fit(X_train, Y_train)"
      ],
      "metadata": {
        "id": "IQfl3pf3KtpW"
      },
      "execution_count": null,
      "outputs": []
    },
    {
      "cell_type": "code",
      "source": [
        "lr_score = LR.score(X_test, Y_test)\n",
        "print('Linear regression processing ,,,')\n",
        "print('Linear regression Score: %.2f %%' % lr_score)"
      ],
      "metadata": {
        "id": "NrYh7nB0KyKQ"
      },
      "execution_count": null,
      "outputs": []
    },
    {
      "cell_type": "code",
      "source": [
        "from sklearn.ensemble import AdaBoostClassifier\n",
        "from sklearn.ensemble import RandomForestClassifier\n",
        "from sklearn.ensemble import BaggingClassifier\n",
        "from sklearn.ensemble import ExtraTreesClassifier\n",
        "from sklearn.ensemble import GradientBoostingClassifier\n",
        "\n",
        "from sklearn.tree import DecisionTreeClassifier"
      ],
      "metadata": {
        "id": "Toz2S8p2K0do"
      },
      "execution_count": null,
      "outputs": []
    },
    {
      "cell_type": "code",
      "source": [
        "AB = AdaBoostClassifier(base_estimator=DecisionTreeClassifier(), n_estimators=100, learning_rate=1.0)\n",
        "RF = RandomForestClassifier(n_estimators=10, criterion='entropy', max_features='auto', bootstrap=True)\n",
        "ET = ExtraTreesClassifier(n_estimators=10, criterion='gini', max_features='auto', bootstrap=False)\n",
        "GB = GradientBoostingClassifier(loss='deviance', learning_rate=0.1, n_estimators=200, max_features='auto')"
      ],
      "metadata": {
        "id": "HhbMybdgK9P1"
      },
      "execution_count": null,
      "outputs": []
    },
    {
      "cell_type": "code",
      "source": [
        "y_train = Y_train['xAttack'].ravel()\n",
        "x_train = X_train.values\n",
        "x_test = X_test.values"
      ],
      "metadata": {
        "id": "nlp4DfoUK_kq"
      },
      "execution_count": null,
      "outputs": []
    },
    {
      "cell_type": "code",
      "source": [
        "AB.fit(X_train, Y_train)"
      ],
      "metadata": {
        "id": "Bbc4JzHwLBlU"
      },
      "execution_count": null,
      "outputs": []
    },
    {
      "cell_type": "code",
      "source": [
        "AB_feature = AB.feature_importances_\n",
        "AB_feature\n",
        "\n",
        "ab_score = AB.score(X_test, Y_test)\n",
        "\n",
        "print('AdaBoostClassifier processing ,,,')\n",
        "print('AdaBoostClassifier Score: %.3f %%' % ab_score)"
      ],
      "metadata": {
        "id": "VRrQc9ISLF5A"
      },
      "execution_count": null,
      "outputs": []
    },
    {
      "cell_type": "code",
      "source": [
        "RF.fit(X_train, Y_train)"
      ],
      "metadata": {
        "id": "aLDE437PLHwE"
      },
      "execution_count": null,
      "outputs": []
    },
    {
      "cell_type": "code",
      "source": [
        "RF_feature = RF.feature_importances_\n",
        "RF_feature\n",
        "\n",
        "rf_score = RF.score(X_test, Y_test)\n",
        "\n",
        "print('RandomForestClassifier processing ,,,')\n",
        "print('RandomForestClassifier Score: %.3f %%' % rf_score)"
      ],
      "metadata": {
        "id": "zgIEV-MGLKKq"
      },
      "execution_count": null,
      "outputs": []
    },
    {
      "cell_type": "code",
      "source": [
        "ET.fit(X_train, Y_train)"
      ],
      "metadata": {
        "id": "HW8OqiC2LMZz"
      },
      "execution_count": null,
      "outputs": []
    },
    {
      "cell_type": "code",
      "source": [
        "ET_feature = ET.feature_importances_\n",
        "ET_feature\n",
        "\n",
        "et_score = ET.score(X_test, Y_test)\n",
        "\n",
        "print('ExtraTreesClassifier processing ,,,')\n",
        "print('ExtraTreeClassifier: %.3f %%' % et_score)"
      ],
      "metadata": {
        "id": "hnha7v_mLP-g"
      },
      "execution_count": null,
      "outputs": []
    },
    {
      "cell_type": "code",
      "source": [
        "GB.fit(X_train, Y_train)"
      ],
      "metadata": {
        "id": "NHlauc9-LRuC"
      },
      "execution_count": null,
      "outputs": []
    },
    {
      "cell_type": "code",
      "source": [
        "GB_feature = GB.feature_importances_\n",
        "GB_feature\n",
        "\n",
        "gb_score = GB.score(X_test, Y_test)\n",
        "\n",
        "print('GradientBoostingClassifier processing ,,,')\n",
        "print('GradientBoostingClassifier Score: %.3f %%' % gb_score)"
      ],
      "metadata": {
        "id": "nGj_RYv-LVBJ"
      },
      "execution_count": null,
      "outputs": []
    },
    {
      "cell_type": "code",
      "source": [
        "cols = X_train.columns.values\n",
        "\n",
        "feature_df = pd.DataFrame({'features': cols,\n",
        "                           'AdaBoost' : AB_feature,\n",
        "                           'RandomForest' : RF_feature,\n",
        "                           'ExtraTree' : ET_feature,\n",
        "                           'GradientBoost' : GB_feature\n",
        "                          })\n",
        "feature_df.head(8)"
      ],
      "metadata": {
        "id": "A51p-mnuLV5c"
      },
      "execution_count": null,
      "outputs": []
    },
    {
      "cell_type": "code",
      "source": [
        "from matplotlib.ticker import MaxNLocator\n",
        "from collections import namedtuple\n",
        "\n",
        "graph = feature_df.plot.bar(figsize = (18, 10), title = 'Feature distribution', grid=True, legend=True, fontsize = 15,\n",
        "                            xticks=feature_df.index)"
      ],
      "metadata": {
        "id": "UJOK1Wz5LY50"
      },
      "execution_count": null,
      "outputs": []
    }
  ]
}